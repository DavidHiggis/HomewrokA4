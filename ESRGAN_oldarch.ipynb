{
  "nbformat": 4,
  "nbformat_minor": 0,
  "metadata": {
    "colab": {
      "name": "ESRGAN_oldarch.ipynb",
      "provenance": [],
      "collapsed_sections": [
        "FgdsmGxihSGf"
      ]
    },
    "kernelspec": {
      "name": "python3",
      "display_name": "Python 3"
    },
    "accelerator": "GPU"
  },
  "cells": [
    {
      "cell_type": "code",
      "metadata": {
        "id": "0zm3KgaEqiQV",
        "colab_type": "code",
        "outputId": "e756c795-3dcva88ta3-4ff3-983a-87815b88f01d",
        "colab": {
          "base_uri": "https://localhost:8080/",
          "height": 123
        }
      },
      "source": [
        "from google.colab import drive\n",
        "drive.mount('/content/drive')"
      ],
      "execution_count": 1,
      "outputs": [
        {
          "output_type": "stream",
          "text": [
            "Go to this URL in a browser: https://accounts.google.com/o/oauth2/auth?client_id=947318989803-6bn6qk8qdgf4n4g3pfee6491hc0brc4i.apps.googleusercontent.com&redirect_uri=urn%3aietf%3awg%3aoauth%3a2.0%3aoob&response_type=code&scope=email%20https%3a%2f%2fwww.googleapis.com%2fauth%2fdocs.test%20https%3a%2f%2fwww.googleapis.com%2fauth%2fdrive%20https%3a%2f%2fwww.googleapis.com%2fauth%2fdrive.photos.readonly%20https%3a%2f%2fwww.googleapis.com%2fauth%2fpeopleapi.readonly\n",
            "\n",
            "Enter your authorization code:\n",
            "··········\n",
            "Mounted at /content/drive\n"
          ],
          "name": "stdout"
        }
      ]
    },
    {
      "cell_type": "code",
      "metadata": {
        "id": "_8yCGxILque_",
        "colab_type": "code",
        "outputId": "40e17ad1-08b2-48e8-b14e-6eca822f75e2",
        "colab": {
          "base_uri": "https://localhost:8080/",
          "height": 34
        }
      },
      "source": [
        "cd /content/drive/My Drive/TFMLz/ESRGAN_oldarch"
      ],
      "execution_count": 0,
      "outputs": [
        {
          "output_type": "stream",
          "text": [
            "/content/drive/My Drive/TFMLz/ESRGAN_oldarch\n"
          ],
          "name": "stdout"
        }
      ]
    },
    {
      "cell_type": "markdown",
      "metadata": {
        "id": "FJGwneRJq0Dn",
        "colab_type": "text"
      },
      "source": [
        "# YUVups"
      ]
    },
    {
      "cell_type": "code",
      "metadata": {
        "id": "hdrnHaqVq7q2",
        "colab_type": "code",
        "outputId": "ddb610e6-6d2f-4012-f39a-16c85de39281",
        "colab": {
          "base_uri": "https://localhost:8080/",
          "height": 155
        }
      },
      "source": [
        "zirr = 'V004_b'\n",
        "wrkbase = '/content/'\n",
        "\n",
        "%cd /content\n",
        "!git clone https://github.com/IbrahimKurz/{zirr}.git\n",
        "!chmod 755 /content/{zirr}/README.sh\n",
        "!/content/{zirr}/README.sh"
      ],
      "execution_count": 2,
      "outputs": [
        {
          "output_type": "stream",
          "text": [
            "/content\n",
            "Cloning into 'V004_b'...\n",
            "remote: Enumerating objects: 6, done.\u001b[K\n",
            "remote: Counting objects: 100% (6/6), done.\u001b[K\n",
            "remote: Compressing objects: 100% (4/4), done.\u001b[K\n",
            "remote: Total 41 (delta 0), reused 0 (delta 0), pack-reused 35\u001b[K\n",
            "Unpacking objects: 100% (41/41), done.\n",
            "Checking out files: 100% (33/33), done.\n"
          ],
          "name": "stdout"
        }
      ]
    },
    {
      "cell_type": "code",
      "metadata": {
        "id": "Rrz54gSRszv_",
        "colab_type": "code",
        "colab": {}
      },
      "source": [
        "import shutil\n",
        "shutil.rmtree(zirr, ignore_errors=True)"
      ],
      "execution_count": 0,
      "outputs": []
    },
    {
      "cell_type": "code",
      "metadata": {
        "id": "IOOey1LsYnZa",
        "colab_type": "code",
        "colab": {}
      },
      "source": [
        "'''\n",
        "shutil.rmtree('oU', ignore_errors=True)\n",
        "shutil.rmtree('oY', ignore_errors=True)\n",
        "shutil.rmtree('oV', ignore_errors=True)\n",
        "!mkdir wY\n",
        "!mkdir wU\n",
        "!mkdir wV\n",
        "'''"
      ],
      "execution_count": 0,
      "outputs": []
    },
    {
      "cell_type": "code",
      "metadata": {
        "id": "ZLZaOYZxs_2d",
        "colab_type": "code",
        "colab": {
          "base_uri": "https://localhost:8080/",
          "height": 738
        },
        "outputId": "f05a6487-fb57-49da-cc41-7d39a4dc4463"
      },
      "source": [
        "!mkdir oY\n",
        "!mkdir oU\n",
        "!mkdir oV\n",
        "!mkdir wY\n",
        "!mkdir wU\n",
        "!mkdir wV\n",
        "!ffmpeg -vsync 0 -i wrk.m2v -filter_complex \"extractplanes=y+u+v[y][u][v]\" -map \"[y]\" 'oY/x%05d.png' -map \"[u]\" 'oU/x%05d.png' -map \"[v]\" 'oV/x%05d.png'"
      ],
      "execution_count": 0,
      "outputs": [
        {
          "output_type": "stream",
          "text": [
            "ffmpeg version 3.4.6-0ubuntu0.18.04.1 Copyright (c) 2000-2019 the FFmpeg developers\n",
            "  built with gcc 7 (Ubuntu 7.3.0-16ubuntu3)\n",
            "  configuration: --prefix=/usr --extra-version=0ubuntu0.18.04.1 --toolchain=hardened --libdir=/usr/lib/x86_64-linux-gnu --incdir=/usr/include/x86_64-linux-gnu --enable-gpl --disable-stripping --enable-avresample --enable-avisynth --enable-gnutls --enable-ladspa --enable-libass --enable-libbluray --enable-libbs2b --enable-libcaca --enable-libcdio --enable-libflite --enable-libfontconfig --enable-libfreetype --enable-libfribidi --enable-libgme --enable-libgsm --enable-libmp3lame --enable-libmysofa --enable-libopenjpeg --enable-libopenmpt --enable-libopus --enable-libpulse --enable-librubberband --enable-librsvg --enable-libshine --enable-libsnappy --enable-libsoxr --enable-libspeex --enable-libssh --enable-libtheora --enable-libtwolame --enable-libvorbis --enable-libvpx --enable-libwavpack --enable-libwebp --enable-libx265 --enable-libxml2 --enable-libxvid --enable-libzmq --enable-libzvbi --enable-omx --enable-openal --enable-opengl --enable-sdl2 --enable-libdc1394 --enable-libdrm --enable-libiec61883 --enable-chromaprint --enable-frei0r --enable-libopencv --enable-libx264 --enable-shared\n",
            "  libavutil      55. 78.100 / 55. 78.100\n",
            "  libavcodec     57.107.100 / 57.107.100\n",
            "  libavformat    57. 83.100 / 57. 83.100\n",
            "  libavdevice    57. 10.100 / 57. 10.100\n",
            "  libavfi8888lter     6.107.100 /  6.107.100\n",
            "  libavresample   3.  7.  0 /  3.  7.  0\n",
            "  libswscale      4.  8.100 /  4.  8.100\n",
            "  libswresample   2.  9.100 /  2.  9.100\n",
            "  libpostproc    54.  7.100 / 54.  7.100\n",
            "Input #0, mpegvideo, from 'wrk.m2v':\n",
            "  Duration: N/A, bitrate: N/A\n",
            "    Stream #0:0: Video: mpeg2video (Main), yuv420p(tv, smpte170m, top first), 720x480 [SAR 8:9 DAR 4:3], 29.97 fps, 29.97 tbr, 1200k tbn, 59.94 tbc\n",
            "Stream mapping:\n",
            "  Stream #0:0 (mpeg2video) -> extractplanes\n",
            "  extractplanes:out0 -> Stream #0:0 (png)\n",
            "  extractplanes:out1 -> Stream #1:0 (png)\n",
            "  extractplanes:out2 -> Stream #2:0 (png)\n",
            "Press [q] to stop, [?] for help\n",
            "Output #0, image2, to 'oY/x%05d.png':\n",
            "  Metadata:\n",
            "    encoder         : Lavf57.83.100\n",
            "    Stream #0:0: Video: png, gray, 720x480 [SAR 8:9 DAR 4:3], q=2-31, 200 kb/s, 29.97 fps, 29.97 tbn, 29.97 tbc\n",
            "    Metadata:\n",
            "      encoder         : Lavc57.107.100 png\n",
            "Output #1, image2, to 'oU/x%05d.png':\n",
            "  Metadata:\n",
            "    encoder         : Lavf57.83.100\n",
            "    Stream #1:0: Video: png, gray, 360x240 [SAR 8:9 DAR 4:3], q=2-31, 200 kb/s, 29.97 fps, 29.97 tbn, 29.97 tbc\n",
            "    Metadata:\n",
            "      encoder         : Lavc57.107.100 png\n",
            "Output #2, image2, to 'oV/x%05d.png':\n",
            "  Metadata:\n",
            "    encoder         : Lavf57.83.100\n",
            "    Stream #2:0: Video: png, gray, 360x240 [SAR 8:9 DAR 4:3], q=2-31, 200 kb/s, 29.97 fps, 29.97 tbn, 29.97 tbc\n",
            "    Metadata:\n",
            "      encoder         : Lavc57.107.100 png\n"
          ],
          "name": "stdout"
        }
      ]
    },
    {
      "cell_type": "code",
      "metadata": {
        "id": "BBOxIv1yXl-N",
        "colab_type": "code",
        "colab": {}
      },
      "source": [
        "deintarle = 2\n",
        "\n",
        "\n",
        "\n",
        "import numpy as np\n",
        "import cv2\n",
        "from PIL import Image \n",
        "import os\n",
        "import sys\n",
        "import glob\n",
        "import torch\n",
        "\n",
        "def interlace(imgL, imgR, h, w):\n",
        "    inter = np.empty((h, w), imgL.dtype)\n",
        "    inter[:h:2, :w] = imgR[:h:2, :w]\n",
        "    inter[1:h:2, :w] = imgL[1:h:2, :w]\n",
        "    return inter\n",
        "\n",
        "def testpics(starti,typ=0):\n",
        "  vstp = 8\n",
        "  vdir = 'wY'\n",
        "\n",
        "  if typ == 1:\n",
        "    vstp = 10\n",
        "    vdir = 'oY'\n",
        "\n",
        "\n",
        "  showp = vstp*   starti\n",
        "  flist = os.listdir(wrkbase+vdir)\n",
        "  flist.sort()\n",
        "\n",
        "  for i in range(showp,showp+vstp):\n",
        "    print(flist[i])\n",
        "    display(Image.open(wrkbase+vdir+'/'+flist[i]))\n",
        "\n",
        "#######################\n",
        "\n",
        "flist = os.listdir(wrkbase+'oY')\n",
        "flist.sort()\n",
        "\n",
        "maefrmY = []\n",
        "maefrmU = []\n",
        "maefrmV = []\n",
        "\n",
        "idx = 0\n",
        "for fi in flist:\n",
        "  gyi = idx%5\n",
        "  if gyi==deintarle:\n",
        "    maefrmY = cv2.imread(wrkbase+'oY/'+fi, cv2.IMREAD_GRAYSCALE).astype(np.uint8)\n",
        "    maefrmU = cv2.imread(wrkbase+'oU/'+fi, cv2.IMREAD_GRAYSCALE).astype(np.uint8)\n",
        "    maefrmV = cv2.imread(wrkbase+'oV/'+fi, cv2.IMREAD_GRAYSCALE).astype(np.uint8)\n",
        "  elif gyi==deintarle+1:\n",
        "    disfrmY = cv2.imread(wrkbase+'oY/'+fi, cv2.IMREAD_GRAYSCALE).astype(np.uint8)\n",
        "    disfrmU = cv2.imread(wrkbase+'oU/'+fi, cv2.IMREAD_GRAYSCALE).astype(np.uint8)\n",
        "    disfrmV = cv2.imread(wrkbase+'oV/'+fi, cv2.IMREAD_GRAYSCALE).astype(np.uint8)\n",
        "\n",
        "    cv2.imwrite(wrkbase+'wY/'+fi,interlace(maefrmY,disfrmY,480,720))\n",
        "    cv2.imwrite(wrkbase+'wU/'+fi,interlace(maefrmU,disfrmU,240,360))\n",
        "    cv2.imwrite(wrkbase+'wV/'+fi,interlace(maefrmV,disfrmV,240,360))\n",
        "  else:\n",
        "    os.link(wrkbase+'oY/'+fi,wrkbase+'wY/'+fi)\n",
        "    os.link(wrkbase+'oU/'+fi,wrkbase+'wU/'+fi)\n",
        "    os.link(wrkbase+'oV/'+fi,wrkbase+'wV/'+fi)\n",
        "\n",
        "  idx+=1\n",
        "\n"
      ],
      "execution_count": 0,
      "outputs": []
    },
    {
      "cell_type": "code",
      "metadata": {
        "id": "yDb4xXvSkl7f",
        "colab_type": "code",
        "colab": {}
      },
      "source": [
        "testpics(1630)"
      ],
      "execution_count": 0,
      "outputs": []
    },
    {
      "cell_type": "code",
      "metadata": {
        "id": "oAJ3bzpNvaqv",
        "colab_type": "code",
        "colab": {}
      },
      "source": [
        "shutil.rmtree('oU', ignore_errors=True)\n",
        "shutil.rmtree('oY', ignore_errors=True)\n",
        "shutil.rmtree('oV', ignore_errors=True)\n",
        "!mkdir 2x/Y\n",
        "!mkdir 2x/U\n",
        "!mkdir 2x/V\n",
        "\n",
        "\n",
        "DictChormaFix = {\n",
        "    2:(-9,-4,-2),\n",
        "    4:(7,10,-10)\n",
        "                 }"
      ],
      "execution_count": 0,
      "outputs": []
    },
    {
      "cell_type": "code",
      "metadata": {
        "id": "dSIJ_rIwtxSA",
        "colab_type": "code",
        "outputId": "b95b6b9d-7b4b-4cbb-e5ad-fa286b0eeb51",
        "colab": {
          "base_uri": "https://localhost:8080/",
          "height": 34
        }
      },
      "source": [
        "cd /content/drive/My Drive/TFMLz/ESRGAN_oldarch"
      ],
      "execution_count": 0,
      "outputs": [
        {
          "output_type": "stream",
          "text": [
            "/content/drive/My Drive/TFMLz/ESRGAN_oldarch\n"
          ],
          "name": "stdout"
        }
      ]
    },
    {
      "cell_type": "code",
      "metadata": {
        "id": "WryXtZqDtdUq",
        "colab_type": "code",
        "colab": {}
      },
      "source": [
        "'''\n",
        "import numpy as np\n",
        "import cv2\n",
        "from PIL import Image \n",
        "import os\n",
        "import sys\n",
        "import glob\n",
        "import torch\n",
        "'''\n",
        "\n",
        "from google.colab import files\n",
        "import architecture as arch\n",
        "\n",
        "\n",
        "def mkESRGAN(model_path,scale):\n",
        "\n",
        "  if not os.path.isfile(model_path):\n",
        "    model_path = 'models/'+model_path+'.pth'\n",
        "\n",
        "  \n",
        "  model = arch.RRDB_Net(3, 3, 64, 23, gc=32, upscale=scale, norm_type=None, act_type='leakyrelu', \\\n",
        "                        mode='CNA', res_scale=1, upsample_mode='upconv')\n",
        "  model.load_state_dict(torch.load(model_path), strict=True)\n",
        "  model.eval()\n",
        "  for k, v in model.named_parameters():\n",
        "      v.requires_grad = False\n",
        "  return model\n",
        "\n",
        "\n",
        "def toRGB444(fiY,fiU,fiV,gshow,slif=None):\n",
        "  tYpl = cv2.imread(fiY, cv2.IMREAD_GRAYSCALE).astype(np.float32)\n",
        "  tUpl = cv2.imread(fiU, cv2.IMREAD_GRAYSCALE).astype(np.float32)\n",
        "  tVpl = cv2.imread(fiV, cv2.IMREAD_GRAYSCALE).astype(np.float32)\n",
        "\n",
        "  if slif is not None:\n",
        "    tYpl+=slif[0]\n",
        "    tUpl+=slif[1]\n",
        "    tVpl+=slif[2]\n",
        "\n",
        "\n",
        "  tUpl -= 128.0\n",
        "  tVpl -= 128.0\n",
        "  tfR = tYpl + tVpl*(1-Wr)/Vmax\n",
        "  tfG = tYpl - (tUpl*Wb*(1-Wb)/Umax+tVpl*Wr*(1-Wr)/Vmax)/Wg\n",
        "  tfB = tYpl + tUpl*(1-Wb)/Umax\n",
        "\n",
        "  domp = np.transpose(np.asarray([tfR,tfG,tfB]), (1, 2, 0)).clip(0,255.0)\n",
        "\n",
        " \n",
        "\n",
        "  if gshow==1:\n",
        "    print(fiY)\n",
        "    display(Image.fromarray(domp.astype(np.uint8)))\n",
        "  else:\n",
        "    cv2.imwrite(wrkbase+'ottest.png', domp[:,:,[2,1,0]])\n",
        "\n",
        "  return domp\n",
        "  \n",
        "  #files.download(wrkbase+'ottest.png')\n",
        "\n",
        "def toRGB422(tYpl,tUpl,tVpl):\n",
        "  tUpl=np.repeat(tUpl,2,0)\n",
        "  tUpl=np.repeat(tUpl,2,1)\n",
        "  tVpl=np.repeat(tVpl,2,0)\n",
        "  tVpl=np.repeat(tVpl,2,1)\n",
        "\n",
        "\n",
        "\n",
        "  tfR = tYpl + tVpl*(1-Wr)/Vmax\n",
        "  tfG = tYpl - (tUpl*Wb*(1-Wb)/Umax+tVpl*Wr*(1-Wr)/Vmax)/Wg\n",
        "  tfB = tYpl + tUpl*(1-Wb)/Umax\n",
        "\n",
        "  #cv2.imwrite(wrkbase+'ottest422.png', np.transpose(np.asarray([tfB,tfG,tfR]), (1, 2, 0)).clip(0,255.0))\n",
        "\n",
        "  return np.asarray([tfR,tfG,tfB])\n",
        " \n",
        "\n",
        "\n",
        "Wr = 0.299\n",
        "Wg = 0.587\n",
        "Wb = 0.114\n",
        "Umax = 0.436\n",
        "Vmax = 0.615\n",
        "\n",
        "scaleYp = 256.0/220.0;\n",
        "scaleUVp = 256.0/225.0;\n",
        "\n",
        "scaleYUV = 1\n",
        "\n",
        "\n",
        "\n",
        "flist = os.listdir(wrkbase+'wY')\n",
        "flist.sort()\n",
        "\n",
        "device = torch.device('cuda')  # if you want to run on CPU, change 'cuda' -> cpu\n",
        "####################\n",
        "\n",
        "m4x =  mkESRGAN('DigiPaint35000',4).to(device) #  2x_Faithful_v2_130000_G' '/content/falcoon300.pth'\n",
        "\n",
        "m2x =  mkESRGAN('LADDIER1_282500_G',4).to(device)\n",
        "\n",
        "###################\n",
        "\n",
        "#test\n",
        "flist = flist[1672*8:]#flist[1393*8:1393*8+2000] #flist[200:] #\n",
        "#test\n",
        "\n",
        "\n",
        "for fi in flist:\n",
        "  Ypl = cv2.imread(wrkbase+'wY/'+fi, cv2.IMREAD_GRAYSCALE).astype(np.float32)\n",
        "  Upl = cv2.imread(wrkbase+'wU/'+fi, cv2.IMREAD_GRAYSCALE).astype(np.float32)\n",
        "  Vpl = cv2.imread(wrkbase+'wV/'+fi, cv2.IMREAD_GRAYSCALE).astype(np.float32)\n",
        "\n",
        "  if scaleYUV == 1:\n",
        "    Ypl-=16\n",
        "    Ypl*=scaleYp\n",
        "    Upl-=16\n",
        "    Upl*=scaleUVp\n",
        "    Vpl-=16\n",
        "    Vpl*=scaleUVp\n",
        "\n",
        "\n",
        "  Upl -= 128.0\n",
        "  Vpl -= 128.0\n",
        "\n",
        "\n",
        "  #======mdl2x=========\n",
        "  Fsiz = toRGB422(Ypl,Upl,Vpl)\n",
        "  img = torch.from_numpy(Fsiz/255.0)\n",
        "  img_LR = img.unsqueeze(0)\n",
        "  img_LR = img_LR.to(device)\n",
        "\n",
        "  output = m2x(img_LR).data.squeeze().cpu().numpy() #.squeeze().float().cpu().numpy()\n",
        " \n",
        "  fY = (Wr*output[0]+Wg*output[1]+Wb*output[2])*255.0\n",
        "\n",
        "  #======mdl2xEND=========\n",
        "\n",
        "  Yplh =  cv2.resize(Ypl, (360, 240), interpolation=cv2.INTER_LINEAR)\n",
        "\n",
        "\n",
        "\n",
        "  #Ypatch = (cv2.resize(Ypl, (1440, 960), interpolation=cv2.INTER_LINEAR)-cv2.resize(Yplh, (1440, 960), interpolation=cv2.INTER_LINEAR))/255.0\n",
        "\n",
        "  Ypatch = (cv2.resize(fY, (1440, 960), interpolation=cv2.INTER_LINEAR)-cv2.resize(Yplh, (1440, 960), interpolation=cv2.INTER_LINEAR))/255.0\n",
        "\n",
        "\n",
        "  fR = Yplh + Vpl*(1-Wr)/Vmax\n",
        "  fG = Yplh - (Upl*Wb*(1-Wb)/Umax+Vpl*Wr*(1-Wr)/Vmax)/Wg\n",
        "  fB = Yplh + Upl*(1-Wb)/Umax\n",
        "\n",
        "  timp = np.asarray([fR,fG,fB]) #.transpose((1,2,0))\n",
        "\n",
        "  img = torch.from_numpy(timp/255.0)\n",
        "  img_LR = img.unsqueeze(0)\n",
        "  img_LR = img_LR.to(device)\n",
        "\n",
        "  output = m4x(img_LR).data.squeeze().cpu().numpy() #.squeeze().float().cpu().numpy()\n",
        " \n",
        "  fY = Wr*output[0]+Wg*output[1]+Wb*output[2]\n",
        "\n",
        "  '''\n",
        "  fU = -0.147*output[0]-0.289*output[1]+0.436*output[2]\n",
        "  fV = 0.615*output[0]-0.515*output[1]-0.100*output[2]\n",
        "  '''\n",
        "\n",
        "  fU = Umax*(output[2]-fY)/(1-Wb)\n",
        "  fV = Vmax*(output[0]-fY)/(1-Wr)\n",
        "\n",
        "  '''\n",
        "  print('Y: '+str(np.max(fY))+', '+str(np.min(fY))+\n",
        "        '\\nU: '+str(np.max(fU))+', '+str(np.min(fU))+\n",
        "        '\\nV: '+str(np.max(fV))+', '+str(np.min(fV)))\n",
        "  '''\n",
        "\n",
        "  fU+=0.5\n",
        "  fV+=0.5\n",
        "  fY+=Ypatch\n",
        "\n",
        "  '''\n",
        "  np.savez_compressed(wrkbase+'2x/Y/'+fi+'.npz', (fY.clip(0,1)*255.0).astype(np.uint8))\n",
        "  np.savez_compressed(wrkbase+'2x/U/'+fi+'.npz', (fU.clip(0,1)*255.0).astype(np.uint8))\n",
        "  np.savez_compressed(wrkbase+'2x/V/'+fi+'.npz', (fV.clip(0,1)*255.0).astype(np.uint8))\n",
        "  '''\n",
        "\n",
        "  #'''\n",
        "  cv2.imwrite(wrkbase+'2x/Y/'+fi, fY.clip(0,1)*255.0)\n",
        "  cv2.imwrite(wrkbase+'2x/U/'+fi, fU.clip(0,1)*255.0)\n",
        "  cv2.imwrite(wrkbase+'2x/V/'+fi, fV.clip(0,1)*255.0)\n",
        "  toRGB444(wrkbase+'2x/Y/'+fi,wrkbase+'2x/U/'+fi,wrkbase+'2x/V/'+fi,gshow=1)\n",
        "  #'''\n",
        "\n",
        "\n",
        "\n",
        "  \n",
        "  \n",
        "\n",
        "  break"
      ],
      "execution_count": 0,
      "outputs": []
    },
    {
      "cell_type": "code",
      "metadata": {
        "id": "b3M7_O6oDiQw",
        "colab_type": "code",
        "colab": {}
      },
      "source": [
        "\n",
        "_=toRGB444(wrkbase+'2x/Y/'+fi,wrkbase+'2x/U/'+fi,wrkbase+'2x/V/'+fi,gshow=1,slif=DictChormaFix[4])"
      ],
      "execution_count": 0,
      "outputs": []
    },
    {
      "cell_type": "code",
      "metadata": {
        "id": "wHcj5W9wS1iw",
        "colab_type": "code",
        "outputId": "e39128c1-4b0e-43be-feba-4d2da5f8ad28",
        "colab": {
          "base_uri": "https://localhost:8080/",
          "height": 447
        }
      },
      "source": [
        "!7z e '/content/drive/My Drive/TFMLz/ESRGAN_oldarch/models/detoon.rar' -o/content\n",
        "#falcoon300.7z"
      ],
      "execution_count": 0,
      "outputs": [
        {
          "output_type": "stream",
          "text": [
            "\n",
            "7-Zip [64] 16.02 : Copyright (c) 1999-2016 Igor Pavlov : 2016-05-21\n",
            "p7zip Version 16.02 (locale=en_US.UTF-8,Utf16=on,HugeFiles=on,64 bits,2 CPUs Intel(R) Xeon(R) CPU @ 2.30GHz (306F0),ASM,AES-NI)\n",
            "\n",
            "Scanning the drive for archives:\n",
            "  0M Scan /content/drive/My Drive/TFMLz/ESRGAN_oldarch/models/\b\b\b\b\b\b\b\b\b\b\b\b\b\b\b\b\b\b\b\b\b\b\b\b\b\b\b\b\b\b\b\b\b\b\b\b\b\b\b\b\b\b\b\b\b\b\b\b\b\b\b\b\b\b\b\b\b\b\b\b\b\b                                                              \b\b\b\b\b\b\b\b\b\b\b\b\b\b\b\b\b\b\b\b\b\b\b\b\b\b\b\b\b\b\b\b\b\b\b\b\b\b\b\b\b\b\b\b\b\b\b\b\b\b\b\b\b\b\b\b\b\b\b\b\b\b1 file, 125021825 bytes (120 MiB)\n",
            "\n",
            "Extracting archive: /content/drive/My Drive/TFMLz/ESRGAN_oldarch/models/detoon.rar\n",
            "--\n",
            "Path = /content/drive/My Drive/TFMLz/ESRGAN_oldarch/models/detoon.rar\n",
            "Type = Rar\n",
            "Physical Size = 125021825\n",
            "Solid = -\n",
            "Blocks = 2\n",
            "Multivolume = -\n",
            "Volumes = 1\n",
            "\n",
            "  0%\b\b\b\b    \b\b\b\bERROR: Unsupported Method : 4x_detoon_225k.pth\n",
            " 50% - 4x_detoon_225k.pth\b\b\b\b\b\b\b\b\b\b\b\b\b\b\b\b\b\b\b\b\b\b\b\b\b                         \b\b\b\b\b\b\b\b\b\b\b\b\b\b\b\b\b\b\b\b\b\b\b\b\bERROR: Unsupported Method : detoon_alt.pth\n",
            "100% - detoon_alt.pth\b\b\b\b\b\b\b\b\b\b\b\b\b\b\b\b\b\b\b\b\b                     \b\b\b\b\b\b\b\b\b\b\b\b\b\b\b\b\b\b\b\b\b\n",
            "Sub items Errors: 2\n",
            "\n",
            "Archives with Errors: 1\n",
            "\n",
            "Sub items Errors: 2\n"
          ],
          "name": "stdout"
        }
      ]
    },
    {
      "cell_type": "code",
      "metadata": {
        "id": "MO7irmSI0CpF",
        "colab_type": "code",
        "colab": {}
      },
      "source": [
        "#print(os.listdir(wrkbase+'4x'))\n",
        "#from google.colab import files\n",
        "files.download(wrkbase+'wU/x00001.png')"
      ],
      "execution_count": 0,
      "outputs": []
    },
    {
      "cell_type": "code",
      "metadata": {
        "id": "0Z07HIjY0zim",
        "colab_type": "code",
        "colab": {}
      },
      "source": [
        "!mkdir {wrkbase}oY\n",
        "!cp {wrkbase}oYr/0155*.pgm {wrkbase}oY"
      ],
      "execution_count": 0,
      "outputs": []
    },
    {
      "cell_type": "markdown",
      "metadata": {
        "id": "t09P4RnqhOPR",
        "colab_type": "text"
      },
      "source": [
        "# OLDarch"
      ]
    },
    {
      "cell_type": "code",
      "metadata": {
        "id": "o66-kA7E7EaP",
        "colab_type": "code",
        "colab": {}
      },
      "source": [
        "#!pip3 install numpy opencv-python\n",
        "#!pip3 install torch torchvision\n",
        "mkdir /content/sample_data/img"
      ],
      "execution_count": 0,
      "outputs": []
    },
    {
      "cell_type": "code",
      "metadata": {
        "id": "Irj6v_VBrEAW",
        "colab_type": "code",
        "outputId": "5e859ef3-c235-424a-ba9e-94db6c3e89cb",
        "colab": {
          "base_uri": "https://localhost:8080/",
          "height": 34
        }
      },
      "source": [
        "cd /content/drive/My Drive/TFMLz/ESRGAN_oldarch"
      ],
      "execution_count": 0,
      "outputs": [
        {
          "output_type": "stream",
          "text": [
            "/content/drive/My Drive/TFMLz/ESRGAN_oldarch\n"
          ],
          "name": "stdout"
        }
      ]
    },
    {
      "cell_type": "code",
      "metadata": {
        "id": "P331xaYjss1w",
        "colab_type": "code",
        "outputId": "8736ca1d-dd25-4e21-bb6b-10de55814caa",
        "colab": {
          "base_uri": "https://localhost:8080/",
          "height": 34
        }
      },
      "source": [
        "import sys\n",
        "import os.path\n",
        "import glob\n",
        "import cv2\n",
        "import numpy as np\n",
        "import torch\n",
        "import architecture as arch\n",
        "\n",
        "\n",
        "device = torch.device('cuda')  # if you want to run on CPU, change 'cuda' -> cpu\n",
        "\n",
        "test_img_folder = '/content/sample_data/img/*'\n",
        "\n",
        "#!wget -P /content/sample_data/img/ http://muryouav.avximg.com/2018-05/upload/86fb6f00e0550fbf1d784d485ac7df3c516e2140.jpg\n",
        "\n",
        "\n",
        "model_path = '4x_Spongebob_v6_190000_G' #2x_Faithful_v2_130000_G'\n",
        "\n",
        "model = arch.RRDB_Net(3, 3, 64, 23, gc=32, upscale=4, norm_type=None, act_type='leakyrelu', \\\n",
        "                        mode='CNA', res_scale=1, upsample_mode='upconv')\n",
        "model.load_state_dict(torch.load('models/'+model_path+'.pth'), strict=True)\n",
        "model.eval()\n",
        "for k, v in model.named_parameters():\n",
        "    v.requires_grad = False\n",
        "model = model.to(device)\n",
        "\n",
        "#print('Model path {:s}. \\nTesting...'.format(model_path))\n",
        "\n",
        "idx = 0\n",
        "for path in glob.glob(test_img_folder):\n",
        "    idx += 1\n",
        "    base = os.path.splitext(os.path.basename(path))[0]\n",
        "    print(idx, base)\n",
        "    # read image\n",
        "    img = cv2.imread(path, cv2.IMREAD_COLOR)\n",
        "    img = img * 1.0 / 255\n",
        "    img = torch.from_numpy(np.transpose(img[:, :, [2, 1, 0]], (2, 0, 1))).float()\n",
        "    img_LR = img.unsqueeze(0)\n",
        "    img_LR = img_LR.to(device)\n",
        "\n",
        "    output = model(img_LR).data.squeeze().float().cpu().clamp_(0, 1).numpy()\n",
        "    output = np.transpose(output[[2, 1, 0], :, :], (1, 2, 0))\n",
        "    output = (output * 255.0).round()\n",
        "    cv2.imwrite('results/{:s}'.format(base)+'_'+model_path+'.png', output)"
      ],
      "execution_count": 0,
      "outputs": [
        {
          "output_type": "stream",
          "text": [
            "1 mmg\n"
          ],
          "name": "stdout"
        }
      ]
    },
    {
      "cell_type": "markdown",
      "metadata": {
        "id": "FgdsmGxihSGf",
        "colab_type": "text"
      },
      "source": [
        "# CurArch"
      ]
    },
    {
      "cell_type": "code",
      "metadata": {
        "id": "a1HOY5rihW9X",
        "colab_type": "code",
        "outputId": "c998d3d9-0c62-4f2f-8668-a4f86974c3d0",
        "colab": {
          "base_uri": "https://localhost:8080/",
          "height": 34
        }
      },
      "source": [
        "cd /content/drive/My Drive/TFMLz/ESRGAN"
      ],
      "execution_count": 0,
      "outputs": [
        {
          "output_type": "stream",
          "text": [
            "/content/drive/My Drive/TFMLz/ESRGAN\n"
          ],
          "name": "stdout"
        }
      ]
    },
    {
      "cell_type": "code",
      "metadata": {
        "id": "SF5Eil7VhlXt",
        "colab_type": "code",
        "colab": {}
      },
      "source": [
        "import os.path as osp\n",
        "import glob\n",
        "import cv2\n",
        "import numpy as np\n",
        "import torch\n",
        "import RRDBNet_arch as arch\n",
        "import sys\n",
        "\n",
        "model_path = 'RRDB_ESRGAN_x4'\n",
        "device = torch.device('cuda')  # if you want to run on CPU, change 'cuda' -> cpu\n",
        "# device = torch.device('cpu')\n",
        "\n",
        "!wget -P /content/sample_data/img/ http://img.eromenskan.com/wp-content/uploads/gazo/575/073_20140118185830ab5.jpg\n",
        "\n",
        "test_img_folder = '/content/sample_data/img/*'\n",
        "\n",
        "model = arch.RRDBNet(3, 3, 64, 23, gc=32)\n",
        "model.load_state_dict(torch.load('models/'+model_path+'.pth'), strict=True)\n",
        "model.eval()\n",
        "model = model.to(device)\n",
        "\n",
        "print('Model path {:s}. \\nTesting...'.format(model_path))\n",
        "\n",
        "idx = 0\n",
        "for path in glob.glob(test_img_folder):\n",
        "    idx += 1\n",
        "    base = osp.splitext(osp.basename(path))[0]\n",
        "    print(idx, base)\n",
        "    # read images\n",
        "    img = cv2.imread(path, cv2.IMREAD_COLOR)\n",
        "    img = img * 1.0 / 255\n",
        "    img = torch.from_numpy(np.transpose(img[:, :, [2, 1, 0]], (2, 0, 1))).float()\n",
        "    img_LR = img.unsqueeze(0)\n",
        "    img_LR = img_LR.to(device)\n",
        "\n",
        "    with torch.no_grad():\n",
        "        output = model(img_LR).data.squeeze().float().cpu().clamp_(0, 1).numpy()\n",
        "    output = np.transpose(output[[2, 1, 0], :, :], (1, 2, 0))\n",
        "    output = (output * 255.0).round()\n",
        "    cv2.imwrite('results/{:s}'.format(base)+'_'+model_path+'.png', output)"
      ],
      "execution_count": 0,
      "outputs": []
    }
  ]
}
